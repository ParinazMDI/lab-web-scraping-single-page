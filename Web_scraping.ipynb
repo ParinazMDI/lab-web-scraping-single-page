{
 "cells": [
  {
   "cell_type": "code",
   "execution_count": 1,
   "id": "2f3f1f5b",
   "metadata": {},
   "outputs": [],
   "source": [
    "from bs4 import BeautifulSoup\n",
    "import requests\n",
    "import pandas as pd"
   ]
  },
  {
   "cell_type": "code",
   "execution_count": 2,
   "id": "3a927c3d",
   "metadata": {},
   "outputs": [],
   "source": [
    "url =\"https://www.popvortex.com/music/charts/top-100-songs.php\""
   ]
  },
  {
   "cell_type": "code",
   "execution_count": 3,
   "id": "fc4551c6",
   "metadata": {},
   "outputs": [],
   "source": [
    "response = requests.get(url)"
   ]
  },
  {
   "cell_type": "code",
   "execution_count": 4,
   "id": "df5b31e7",
   "metadata": {},
   "outputs": [],
   "source": [
    "soup = BeautifulSoup(response.content, \"html.parser\")"
   ]
  },
  {
   "cell_type": "code",
   "execution_count": 5,
   "id": "629f9abb",
   "metadata": {},
   "outputs": [],
   "source": [
    "#response.content"
   ]
  },
  {
   "cell_type": "code",
   "execution_count": 6,
   "id": "a9099dd0",
   "metadata": {},
   "outputs": [],
   "source": [
    "#soup"
   ]
  },
  {
   "cell_type": "code",
   "execution_count": 7,
   "id": "c0cb9c48",
   "metadata": {},
   "outputs": [],
   "source": [
    "# find the title selector\n",
    "#soup.select('div.chart-content.col-xs-12.col-sm-8 > p > cite')"
   ]
  },
  {
   "cell_type": "code",
   "execution_count": 8,
   "id": "cb45555e",
   "metadata": {},
   "outputs": [],
   "source": [
    "# find the artist selector\n",
    "#soup.select('div.chart-content.col-xs-12.col-sm-8 > p > em')"
   ]
  },
  {
   "cell_type": "code",
   "execution_count": 9,
   "id": "6d24afb4",
   "metadata": {},
   "outputs": [],
   "source": [
    "#soup.select('div.chart-content.col-xs-12.col-sm-8 > p > cite')"
   ]
  },
  {
   "cell_type": "code",
   "execution_count": 10,
   "id": "252086e2",
   "metadata": {},
   "outputs": [
    {
     "name": "stdout",
     "output_type": "stream",
     "text": [
      "['Lovin On Me', 'Lil Boo Thang', 'White Horse', 'I Remember Everything (feat. Kacey Musgraves)', 'Save Me (with Lainey Wilson)', 'Need A Favor', '90s Rap Mashup', 'Cruel Summer', 'Now And Then', 'Sin So Sweet', 'Fast Car', 'Thinkin’ Bout Me', 'Christmas / Sarajevo 12/24 (Instrumental)', 'All I Want for Christmas Is You', 'greedy', 'Fairytale Of Philadelphia', 'Around Me the Cold Night', 'Lose Control', 'Houdini', 'Wrap Me Up', 'Next Winter I Will Wait for You Forever', 'Last Night', 'Where the Wild Things Are', 'Paint The Town Red', 'Standing Next to You', 'Water', 'In the Sky a White Cloud Drifted Lazily', \"Rockin' Around the Christmas Tree (Single)\", 'Even Though I Know You', '3D', \"Now I Know I Know I've Lost You\", 'Evil Ways (feat. J. Cole)', 'Used To Be Young', 'Fancy Like Christmas', 'Can’t Catch Me Now (from The Hunger Games: The Ballad of Songbirds & Snakes)', 'Karma', 'Rich Men North of Richmond', 'The Wind Brings Winter', 'exes', 'You Broke My Heart', 'Better Place (From TROLLS Band Together)', 'Keith', 'Still Not Fade the Footprints', 'Snowman', 'Wild Ones (Extended Version)', 'Standing Next to You (Band Version)', 'Watermelon Moonshine', 'To Be A Man (feat. Darius Rucker)', 'Standing Next to You (Instrumental)', 'Tonight I Dreamed a Pink Dream', 'Standing Next to You (Future Funk Remix)', 'Standing Next to You (Slow Jam Remix)', 'Standing Next to You (Holiday Remix)', 'Standing Next to You (PBR&B Remix)', 'Save Me', 'Dance The Night', 'Standing Next to You (Latin Trap Remix)', 'Gratitude', 'Lover', 'My Heart Has Come Back', \"Why Don't You Tell the Truth ?\", 'Islands In the Stream', 'Anti-Hero', 'The Christmas Song (Merry Christmas to You)', 'I Still Miss You Every Time Dusk Falls', 'Wizards in Winter (Instrumental)', 'The Painter', 'MONACO', 'Fairytale Of Philadelphia', \"Is It Over Now? (Taylor's Version) [From The Vault]\", \"You Don't Need to Worry\", 'The Pink Rays of Sunlight Disappear', 'Tennessee Whiskey', 'Nights in White Satin (Single Edit)', 'Son Of A Sinner', 'Bigger Than The Whole Sky', 'What Was I Made For? [From The Motion Picture \"Barbie\"]', \"Flyin' Pass (Single)\", \"A Mad Russian's Christmas (Instrumental)\", 'Red Button', 'Stories About My Brother', 'Dial Drunk', 'The Buds of Youth Are Still Lingering There', 'If You Dont Have One-The Day You', 'Last Christmas (Single Version)', 'The Shoe Fits', 'Presha', 'Daylight', \"The Chipmunk Song (Christmas Don't Be Late)\", 'White Christmas', 'ONE MORE TIME', 'The Best', 'Let It Be (feat. Paul McCartney & Ringo Starr)', 'Purple Rain', 'vampire', 'Wick Man', \"Stay With Me Santa (Mrs. Claus' Christmas Wish)\", 'Calm Down', 'Flowers', 'World on Fire']\n"
     ]
    },
    {
     "data": {
      "text/plain": [
       "100"
      ]
     },
     "execution_count": 10,
     "metadata": {},
     "output_type": "execute_result"
    }
   ],
   "source": [
    "title = []\n",
    "for t in soup.select('div.chart-content.col-xs-12.col-sm-8 > p > cite'):\n",
    "    title.append(t.get_text())\n",
    "print(title)\n",
    "len(title)"
   ]
  },
  {
   "cell_type": "code",
   "execution_count": 11,
   "id": "2e22ce35",
   "metadata": {},
   "outputs": [
    {
     "name": "stdout",
     "output_type": "stream",
     "text": [
      "['Jack Harlow', 'Paul Russell', 'Chris Stapleton', 'Zach Bryan', 'Jelly Roll', 'Jelly Roll', 'Austin Williams', 'Taylor Swift', 'The Beatles', 'Warren Zeiders', 'Luke Combs', 'Morgan Wallen', 'Trans-Siberian Orchestra', 'Mariah Carey', 'Tate McRae', 'The Philly Specials, Jason Kelce & Travis Kelce', 'Luminara Stellaris', 'Teddy Swims', 'Dua Lipa', 'Jimmy Fallon & Meghan Trainor', 'Luminara Stellaris', 'Morgan Wallen', 'Luke Combs', 'Doja Cat', 'Jung Kook', 'Tyla', 'Luminara Stellaris', 'Brenda Lee', 'Luminara Stellaris', 'Jung Kook & Jack Harlow', 'Luminara Stellaris', 'Drake', 'Miley Cyrus', 'Walker Hayes', 'Olivia Rodrigo', 'Taylor Swift', 'Oliver Anthony Music', 'Luminara Stellaris', 'Tate McRae', 'Drake', '*NSYNC & Justin Timberlake', 'Kaylee Bell', 'Luminara Stellaris', 'Sia', 'Jessie Murph & Jelly Roll', 'Jung Kook', 'Lainey Wilson', 'Dax', 'Jung Kook', 'Luminara Stellaris', 'Jung Kook', 'Jung Kook', 'Jung Kook', 'Jung Kook', 'Jelly Roll', 'Dua Lipa', 'Jung Kook', 'Brandon Lake', 'Taylor Swift', 'Luminara Stellaris', 'The day you', 'Dolly Parton & Kenny Rogers', 'Taylor Swift', 'Nat \"King\" Cole', 'Luminara Stellaris', 'Trans-Siberian Orchestra', 'Cody Johnson', 'Bad Bunny', 'The Philly Specials, Jason Kelce & Travis Kelce', 'Taylor Swift', 'The day you', 'Luminara Stellaris', 'Chris Stapleton', 'The Moody Blues, London Festival Orchestra & Peter Knight', 'Jelly Roll', 'Taylor Swift', 'Billie Eilish', 'Caldwell', 'Trans-Siberian Orchestra', 'Drake', 'Drake', 'Noah Kahan & Post Malone', 'Luminara Stellaris', 'The day you', 'Wham!', 'Drake', '2 Chainz & Lil Wayne', 'David Kushner', 'Alvin & The Chipmunks', 'Bing Crosby', 'blink-182', 'Nicotine Dolls', 'Dolly Parton', 'Dolly Parton', 'Olivia Rodrigo', 'Drake', 'SMITH', 'Rema & Selena Gomez', 'Miley Cyrus', 'Nate Smith']\n"
     ]
    },
    {
     "data": {
      "text/plain": [
       "100"
      ]
     },
     "execution_count": 11,
     "metadata": {},
     "output_type": "execute_result"
    }
   ],
   "source": [
    "artist = []\n",
    "for a in soup.select('div.chart-content.col-xs-12.col-sm-8 > p > em'):\n",
    "    artist.append(a.get_text())\n",
    "print(artist)\n",
    "len(artist)"
   ]
  },
  {
   "cell_type": "code",
   "execution_count": 36,
   "id": "c819ec6c",
   "metadata": {},
   "outputs": [
    {
     "data": {
      "text/html": [
       "<div>\n",
       "<style scoped>\n",
       "    .dataframe tbody tr th:only-of-type {\n",
       "        vertical-align: middle;\n",
       "    }\n",
       "\n",
       "    .dataframe tbody tr th {\n",
       "        vertical-align: top;\n",
       "    }\n",
       "\n",
       "    .dataframe thead th {\n",
       "        text-align: right;\n",
       "    }\n",
       "</style>\n",
       "<table border=\"1\" class=\"dataframe\">\n",
       "  <thead>\n",
       "    <tr style=\"text-align: right;\">\n",
       "      <th></th>\n",
       "      <th>Song Title</th>\n",
       "      <th>Artist</th>\n",
       "    </tr>\n",
       "  </thead>\n",
       "  <tbody>\n",
       "    <tr>\n",
       "      <th>0</th>\n",
       "      <td>Lovin On Me</td>\n",
       "      <td>Jack Harlow</td>\n",
       "    </tr>\n",
       "    <tr>\n",
       "      <th>1</th>\n",
       "      <td>Lil Boo Thang</td>\n",
       "      <td>Paul Russell</td>\n",
       "    </tr>\n",
       "    <tr>\n",
       "      <th>2</th>\n",
       "      <td>White Horse</td>\n",
       "      <td>Chris Stapleton</td>\n",
       "    </tr>\n",
       "    <tr>\n",
       "      <th>3</th>\n",
       "      <td>I Remember Everything (feat. Kacey Musgraves)</td>\n",
       "      <td>Zach Bryan</td>\n",
       "    </tr>\n",
       "    <tr>\n",
       "      <th>4</th>\n",
       "      <td>Save Me (with Lainey Wilson)</td>\n",
       "      <td>Jelly Roll</td>\n",
       "    </tr>\n",
       "    <tr>\n",
       "      <th>...</th>\n",
       "      <td>...</td>\n",
       "      <td>...</td>\n",
       "    </tr>\n",
       "    <tr>\n",
       "      <th>95</th>\n",
       "      <td>Wick Man</td>\n",
       "      <td>Drake</td>\n",
       "    </tr>\n",
       "    <tr>\n",
       "      <th>96</th>\n",
       "      <td>Stay With Me Santa (Mrs. Claus' Christmas Wish)</td>\n",
       "      <td>SMITH</td>\n",
       "    </tr>\n",
       "    <tr>\n",
       "      <th>97</th>\n",
       "      <td>Calm Down</td>\n",
       "      <td>Rema &amp; Selena Gomez</td>\n",
       "    </tr>\n",
       "    <tr>\n",
       "      <th>98</th>\n",
       "      <td>Flowers</td>\n",
       "      <td>Miley Cyrus</td>\n",
       "    </tr>\n",
       "    <tr>\n",
       "      <th>99</th>\n",
       "      <td>World on Fire</td>\n",
       "      <td>Nate Smith</td>\n",
       "    </tr>\n",
       "  </tbody>\n",
       "</table>\n",
       "<p>100 rows × 2 columns</p>\n",
       "</div>"
      ],
      "text/plain": [
       "                                         Song Title               Artist\n",
       "0                                       Lovin On Me          Jack Harlow\n",
       "1                                     Lil Boo Thang         Paul Russell\n",
       "2                                       White Horse      Chris Stapleton\n",
       "3     I Remember Everything (feat. Kacey Musgraves)           Zach Bryan\n",
       "4                      Save Me (with Lainey Wilson)           Jelly Roll\n",
       "..                                              ...                  ...\n",
       "95                                         Wick Man                Drake\n",
       "96  Stay With Me Santa (Mrs. Claus' Christmas Wish)                SMITH\n",
       "97                                        Calm Down  Rema & Selena Gomez\n",
       "98                                          Flowers          Miley Cyrus\n",
       "99                                    World on Fire           Nate Smith\n",
       "\n",
       "[100 rows x 2 columns]"
      ]
     },
     "execution_count": 36,
     "metadata": {},
     "output_type": "execute_result"
    }
   ],
   "source": [
    "songlist = pd.DataFrame({\"Song Title\":title,\n",
    "                       \"Artist\":artist,\n",
    "                      })\n",
    "songlist"
   ]
  },
  {
   "cell_type": "code",
   "execution_count": null,
   "id": "dc1ec36c",
   "metadata": {},
   "outputs": [],
   "source": [
    "#Part1-Second lab-Expand the project"
   ]
  },
  {
   "cell_type": "code",
   "execution_count": 14,
   "id": "38313cc1",
   "metadata": {},
   "outputs": [
    {
     "data": {
      "text/plain": [
       "200"
      ]
     },
     "execution_count": 14,
     "metadata": {},
     "output_type": "execute_result"
    }
   ],
   "source": [
    "url2 =\" https://www.billboard.com/chart/hot-100/\"\n",
    "response = requests.get(url2)\n",
    "\n",
    "response.status_code"
   ]
  },
  {
   "cell_type": "code",
   "execution_count": 15,
   "id": "45145ba2",
   "metadata": {},
   "outputs": [],
   "source": [
    "soup = BeautifulSoup(response.content, \"html.parser\")"
   ]
  },
  {
   "cell_type": "code",
   "execution_count": 16,
   "id": "658af507",
   "metadata": {},
   "outputs": [],
   "source": [
    "song_elements = soup.select(\"h3.c-title\")\n",
    "\n",
    "#song_elements \n"
   ]
  },
  {
   "cell_type": "code",
   "execution_count": 29,
   "id": "dfc566be",
   "metadata": {},
   "outputs": [],
   "source": [
    "#post-1479786 > div.pmc-paywall > div > div > div > div.chart-results-list.\\/\\/.lrv-u-padding-t-150.lrv-u-padding-t-050\\@mobile-max > div:nth-child(3) > ul > li.lrv-u-width-100p > ul > li.o-chart-results-list__item.\\/\\/.lrv-u-flex-grow-1.lrv-u-flex.lrv-u-flex-direction-column.lrv-u-justify-content-center.lrv-u-border-b-1.u-border-b-0\\@mobile-max.lrv-u-border-color-grey-light.lrv-u-padding-l-050.lrv-u-padding-l-1\\@mobile-max > span\n",
    "\n",
    "artist_elements = soup.select(\"#post-1479786 > div.pmc-paywall > div > div > div > div.chart-results-list.\\\\/\\\\/.lrv-u-padding-t-150.lrv-u-padding-t-050\\\\@mobile-max > div > ul > li.lrv-u-width-100p > ul > li.o-chart-results-list__item.\\\\/\\\\/.lrv-u-flex-grow-1.lrv-u-flex.lrv-u-flex-direction-column.lrv-u-justify-content-center.lrv-u-border-b-1.u-border-b-0\\\\@mobile-max.lrv-u-border-color-grey-light.lrv-u-padding-l-050.lrv-u-padding-l-1\\\\@mobile-max > span\")\n",
    "\n",
    "#artist_elements"
   ]
  },
  {
   "cell_type": "code",
   "execution_count": 31,
   "id": "1726acb5",
   "metadata": {},
   "outputs": [],
   "source": [
    "data=[]\n",
    "for e in soup.find_all(attrs={'class':'o-chart-results-list-row-container'}):\n",
    "    data.append({\n",
    "           'Song Title':e.h3.get_text(strip=True),\n",
    "           'Artist':e.h3.find_next('span').get_text(strip=True),\n",
    "       }) \n",
    "    \n",
    "data_frame_billboard = pd.DataFrame(data)\n",
    "    "
   ]
  },
  {
   "cell_type": "code",
   "execution_count": 32,
   "id": "a86a82ab",
   "metadata": {},
   "outputs": [
    {
     "data": {
      "text/html": [
       "<div>\n",
       "<style scoped>\n",
       "    .dataframe tbody tr th:only-of-type {\n",
       "        vertical-align: middle;\n",
       "    }\n",
       "\n",
       "    .dataframe tbody tr th {\n",
       "        vertical-align: top;\n",
       "    }\n",
       "\n",
       "    .dataframe thead th {\n",
       "        text-align: right;\n",
       "    }\n",
       "</style>\n",
       "<table border=\"1\" class=\"dataframe\">\n",
       "  <thead>\n",
       "    <tr style=\"text-align: right;\">\n",
       "      <th></th>\n",
       "      <th>Song Title</th>\n",
       "      <th>Artist</th>\n",
       "    </tr>\n",
       "  </thead>\n",
       "  <tbody>\n",
       "    <tr>\n",
       "      <th>0</th>\n",
       "      <td>Cruel Summer</td>\n",
       "      <td>Taylor Swift</td>\n",
       "    </tr>\n",
       "    <tr>\n",
       "      <th>1</th>\n",
       "      <td>Paint The Town Red</td>\n",
       "      <td>Doja Cat</td>\n",
       "    </tr>\n",
       "    <tr>\n",
       "      <th>2</th>\n",
       "      <td>Is It Over Now? (Taylor's Version) [From The V...</td>\n",
       "      <td>Taylor Swift</td>\n",
       "    </tr>\n",
       "    <tr>\n",
       "      <th>3</th>\n",
       "      <td>Snooze</td>\n",
       "      <td>SZA</td>\n",
       "    </tr>\n",
       "    <tr>\n",
       "      <th>4</th>\n",
       "      <td>Standing Next To You</td>\n",
       "      <td>Jung Kook</td>\n",
       "    </tr>\n",
       "    <tr>\n",
       "      <th>...</th>\n",
       "      <td>...</td>\n",
       "      <td>...</td>\n",
       "    </tr>\n",
       "    <tr>\n",
       "      <th>95</th>\n",
       "      <td>Clean (Taylor's Version)</td>\n",
       "      <td>Taylor Swift</td>\n",
       "    </tr>\n",
       "    <tr>\n",
       "      <th>96</th>\n",
       "      <td>Bleed</td>\n",
       "      <td>The Kid LAROI</td>\n",
       "    </tr>\n",
       "    <tr>\n",
       "      <th>97</th>\n",
       "      <td>But I Got A Beer In My Hand</td>\n",
       "      <td>Luke Bryan</td>\n",
       "    </tr>\n",
       "    <tr>\n",
       "      <th>98</th>\n",
       "      <td>We Don't Fight Anymore</td>\n",
       "      <td>Carly Pearce Featuring Chris Stapleton</td>\n",
       "    </tr>\n",
       "    <tr>\n",
       "      <th>99</th>\n",
       "      <td>Sarah's Place</td>\n",
       "      <td>Zach Bryan Featuring Noah Kahan</td>\n",
       "    </tr>\n",
       "  </tbody>\n",
       "</table>\n",
       "<p>100 rows × 2 columns</p>\n",
       "</div>"
      ],
      "text/plain": [
       "                                           Song Title  \\\n",
       "0                                        Cruel Summer   \n",
       "1                                  Paint The Town Red   \n",
       "2   Is It Over Now? (Taylor's Version) [From The V...   \n",
       "3                                              Snooze   \n",
       "4                                Standing Next To You   \n",
       "..                                                ...   \n",
       "95                           Clean (Taylor's Version)   \n",
       "96                                              Bleed   \n",
       "97                        But I Got A Beer In My Hand   \n",
       "98                             We Don't Fight Anymore   \n",
       "99                                      Sarah's Place   \n",
       "\n",
       "                                    Artist  \n",
       "0                             Taylor Swift  \n",
       "1                                 Doja Cat  \n",
       "2                             Taylor Swift  \n",
       "3                                      SZA  \n",
       "4                                Jung Kook  \n",
       "..                                     ...  \n",
       "95                            Taylor Swift  \n",
       "96                           The Kid LAROI  \n",
       "97                              Luke Bryan  \n",
       "98  Carly Pearce Featuring Chris Stapleton  \n",
       "99         Zach Bryan Featuring Noah Kahan  \n",
       "\n",
       "[100 rows x 2 columns]"
      ]
     },
     "execution_count": 32,
     "metadata": {},
     "output_type": "execute_result"
    }
   ],
   "source": [
    "data_frame_billboard"
   ]
  },
  {
   "cell_type": "code",
   "execution_count": 37,
   "id": "2a5c1706",
   "metadata": {},
   "outputs": [
    {
     "data": {
      "text/html": [
       "<div>\n",
       "<style scoped>\n",
       "    .dataframe tbody tr th:only-of-type {\n",
       "        vertical-align: middle;\n",
       "    }\n",
       "\n",
       "    .dataframe tbody tr th {\n",
       "        vertical-align: top;\n",
       "    }\n",
       "\n",
       "    .dataframe thead th {\n",
       "        text-align: right;\n",
       "    }\n",
       "</style>\n",
       "<table border=\"1\" class=\"dataframe\">\n",
       "  <thead>\n",
       "    <tr style=\"text-align: right;\">\n",
       "      <th></th>\n",
       "      <th>Song Title</th>\n",
       "      <th>Artist</th>\n",
       "    </tr>\n",
       "  </thead>\n",
       "  <tbody>\n",
       "    <tr>\n",
       "      <th>0</th>\n",
       "      <td>Cruel Summer</td>\n",
       "      <td>Taylor Swift</td>\n",
       "    </tr>\n",
       "    <tr>\n",
       "      <th>1</th>\n",
       "      <td>Paint The Town Red</td>\n",
       "      <td>Doja Cat</td>\n",
       "    </tr>\n",
       "    <tr>\n",
       "      <th>2</th>\n",
       "      <td>Is It Over Now? (Taylor's Version) [From The V...</td>\n",
       "      <td>Taylor Swift</td>\n",
       "    </tr>\n",
       "    <tr>\n",
       "      <th>3</th>\n",
       "      <td>Snooze</td>\n",
       "      <td>SZA</td>\n",
       "    </tr>\n",
       "    <tr>\n",
       "      <th>4</th>\n",
       "      <td>Standing Next To You</td>\n",
       "      <td>Jung Kook</td>\n",
       "    </tr>\n",
       "    <tr>\n",
       "      <th>...</th>\n",
       "      <td>...</td>\n",
       "      <td>...</td>\n",
       "    </tr>\n",
       "    <tr>\n",
       "      <th>95</th>\n",
       "      <td>Wick Man</td>\n",
       "      <td>Drake</td>\n",
       "    </tr>\n",
       "    <tr>\n",
       "      <th>96</th>\n",
       "      <td>Stay With Me Santa (Mrs. Claus' Christmas Wish)</td>\n",
       "      <td>SMITH</td>\n",
       "    </tr>\n",
       "    <tr>\n",
       "      <th>97</th>\n",
       "      <td>Calm Down</td>\n",
       "      <td>Rema &amp; Selena Gomez</td>\n",
       "    </tr>\n",
       "    <tr>\n",
       "      <th>98</th>\n",
       "      <td>Flowers</td>\n",
       "      <td>Miley Cyrus</td>\n",
       "    </tr>\n",
       "    <tr>\n",
       "      <th>99</th>\n",
       "      <td>World on Fire</td>\n",
       "      <td>Nate Smith</td>\n",
       "    </tr>\n",
       "  </tbody>\n",
       "</table>\n",
       "<p>200 rows × 2 columns</p>\n",
       "</div>"
      ],
      "text/plain": [
       "                                           Song Title               Artist\n",
       "0                                        Cruel Summer         Taylor Swift\n",
       "1                                  Paint The Town Red             Doja Cat\n",
       "2   Is It Over Now? (Taylor's Version) [From The V...         Taylor Swift\n",
       "3                                              Snooze                  SZA\n",
       "4                                Standing Next To You            Jung Kook\n",
       "..                                                ...                  ...\n",
       "95                                           Wick Man                Drake\n",
       "96    Stay With Me Santa (Mrs. Claus' Christmas Wish)                SMITH\n",
       "97                                          Calm Down  Rema & Selena Gomez\n",
       "98                                            Flowers          Miley Cyrus\n",
       "99                                      World on Fire           Nate Smith\n",
       "\n",
       "[200 rows x 2 columns]"
      ]
     },
     "execution_count": 37,
     "metadata": {},
     "output_type": "execute_result"
    }
   ],
   "source": [
    "hot_songs=pd.concat([data_frame_billboard,songlist], axis=0)\n",
    "hot_songs"
   ]
  },
  {
   "cell_type": "code",
   "execution_count": 38,
   "id": "90ffd544",
   "metadata": {},
   "outputs": [
    {
     "data": {
      "text/plain": [
       "19"
      ]
     },
     "execution_count": 38,
     "metadata": {},
     "output_type": "execute_result"
    }
   ],
   "source": [
    "hot_songs.duplicated().sum()"
   ]
  },
  {
   "cell_type": "code",
   "execution_count": 39,
   "id": "0714e711",
   "metadata": {},
   "outputs": [],
   "source": [
    "hot_songs=hot_songs.drop_duplicates()"
   ]
  },
  {
   "cell_type": "code",
   "execution_count": 40,
   "id": "8264b589",
   "metadata": {},
   "outputs": [
    {
     "data": {
      "text/plain": [
       "0"
      ]
     },
     "execution_count": 40,
     "metadata": {},
     "output_type": "execute_result"
    }
   ],
   "source": [
    "hot_songs.duplicated().sum()"
   ]
  },
  {
   "cell_type": "code",
   "execution_count": null,
   "id": "b2ad0011",
   "metadata": {},
   "outputs": [],
   "source": []
  }
 ],
 "metadata": {
  "kernelspec": {
   "display_name": "Python 3 (ipykernel)",
   "language": "python",
   "name": "python3"
  },
  "language_info": {
   "codemirror_mode": {
    "name": "ipython",
    "version": 3
   },
   "file_extension": ".py",
   "mimetype": "text/x-python",
   "name": "python",
   "nbconvert_exporter": "python",
   "pygments_lexer": "ipython3",
   "version": "3.11.5"
  }
 },
 "nbformat": 4,
 "nbformat_minor": 5
}
